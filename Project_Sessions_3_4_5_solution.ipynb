{
  "nbformat": 4,
  "nbformat_minor": 0,
  "metadata": {
    "colab": {
      "provenance": [],
      "gpuType": "T4",
      "authorship_tag": "ABX9TyPHKN6HfAGCKVfOmMy59w0u",
      "include_colab_link": true
    },
    "kernelspec": {
      "name": "python3",
      "display_name": "Python 3"
    },
    "language_info": {
      "name": "python"
    },
    "accelerator": "GPU"
  },
  "cells": [
    {
      "cell_type": "markdown",
      "metadata": {
        "id": "view-in-github",
        "colab_type": "text"
      },
      "source": [
        "<a href=\"https://colab.research.google.com/github/tbaeumel/MI_tutorials/blob/main/Project_Sessions_3_4_5_solution.ipynb\" target=\"_parent\"><img src=\"https://colab.research.google.com/assets/colab-badge.svg\" alt=\"Open In Colab\"/></a>"
      ]
    },
    {
      "cell_type": "markdown",
      "source": [
        "### How do LLMs do addition?\n",
        "\n",
        "This is a mini-project to test your new skills in **early decoding**, **probing**, and **causal intervention**.\n",
        "\n",
        "We have the following question: How do LLMs do addition?\n",
        "\n",
        "For instance, *161 + 224 = 385*"
      ],
      "metadata": {
        "id": "BqEIUKE8v8RZ"
      }
    },
    {
      "cell_type": "markdown",
      "source": [
        "## Part 1 - Prediction Accuracy\n",
        "\n",
        "We start by looking at the performance of *meta-llama/Llama-3.2-1B* on addition tasks."
      ],
      "metadata": {
        "id": "cJe8mm05wzaQ"
      }
    },
    {
      "cell_type": "code",
      "execution_count": null,
      "metadata": {
        "id": "TCqk_bPyvoS6"
      },
      "outputs": [],
      "source": [
        "from transformers import AutoTokenizer, AutoModelForCausalLM\n",
        "\n",
        "# Define prompts\n",
        "prompts = [\"122 + 125 = 247; 161 + 224 =\",\n",
        "           \"122 + 125 = 247; 161 + 395 =\",\n",
        "           \"122 + 125 = 247; 353 + 214 =\",\n",
        "           \"122 + 125 = 247; 499 + 412 =\",\n",
        "           \"122 + 125 = 247; 121 + 540 =\"]\n",
        "\n",
        "model_name = \"meta-llama/Llama-3.2-1B\"\n",
        "\n",
        "# Load the model\n",
        "tokenizer = AutoTokenizer.from_pretrained(model_name)\n",
        "model = AutoModelForCausalLM.from_pretrained(model_name)\n",
        "\n",
        "# Evaluate the model on each prompt\n",
        "for prompt in prompts:\n",
        "    inputs = tokenizer(prompt, return_tensors=\"pt\")\n",
        "    outputs = model.generate(**inputs, max_length=inputs['input_ids'].shape[1] + 10)\n",
        "    completion = tokenizer.decode(outputs[0], skip_special_tokens=True)\n",
        "    print(f\"Prompt: {prompt}\")\n",
        "    print(f\"Model completion: {completion}\\n\")"
      ]
    },
    {
      "cell_type": "code",
      "source": [],
      "metadata": {
        "id": "x459KnboxrYW"
      },
      "execution_count": null,
      "outputs": []
    }
  ]
}