{
  "nbformat": 4,
  "nbformat_minor": 0,
  "metadata": {
    "colab": {
      "provenance": [],
      "authorship_tag": "ABX9TyPccNAB30oQvH/qQ0Nau+ui",
      "include_colab_link": true
    },
    "kernelspec": {
      "name": "python3",
      "display_name": "Python 3"
    },
    "language_info": {
      "name": "python"
    }
  },
  "cells": [
    {
      "cell_type": "markdown",
      "metadata": {
        "id": "view-in-github",
        "colab_type": "text"
      },
      "source": [
        "<a href=\"https://colab.research.google.com/github/tbaeumel/MI_tutorials/blob/main/Project_Sessions_3_4_5.ipynb\" target=\"_parent\"><img src=\"https://colab.research.google.com/assets/colab-badge.svg\" alt=\"Open In Colab\"/></a>"
      ]
    },
    {
      "cell_type": "markdown",
      "source": [
        "### How do LLMs do addition?\n",
        "\n",
        "This is a mini-project to test your new skills in **early decoding**, **probing**, and **causal intervention**.\n",
        "\n",
        "We have the following question: How do LLMs do addition?\n",
        "\n",
        "For instance, *161 + 224 = 385*"
      ],
      "metadata": {
        "id": "BqEIUKE8v8RZ"
      }
    },
    {
      "cell_type": "markdown",
      "source": [
        "## Part 1 - Prediction Accuracy\n",
        "\n",
        "We start by looking at the performance of *meta-llama/Llama-3.2-1B* on addition tasks."
      ],
      "metadata": {
        "id": "cJe8mm05wzaQ"
      }
    },
    {
      "cell_type": "code",
      "execution_count": 1,
      "metadata": {
        "id": "TCqk_bPyvoS6"
      },
      "outputs": [],
      "source": [
        "from transformers import AutoTokenizer, AutoModelForCausalLM\n",
        "\n",
        "prompts = [\"122 + 125 = 247; 161 + 224 =\"]\n",
        "\n",
        "# TODO: Load the model, (manually) evaluate the performance on 5 one-shot addition prompts\n",
        "# ~ X lines of code\n",
        "\n",
        "# Load the tokenizer and model\n",
        "model_name = \"meta-llama/Llama-3.2-1B\"\n",
        "tokenizer = AutoTokenizer.from_pretrained(model_name)\n",
        "model = AutoModelForCausalLM.from_pretrained(model_name)\n",
        "\n",
        "meta-llama/Llama-3.2-1B"
      ]
    },
    {
      "cell_type": "code",
      "source": [],
      "metadata": {
        "id": "x459KnboxrYW"
      },
      "execution_count": null,
      "outputs": []
    }
  ]
}