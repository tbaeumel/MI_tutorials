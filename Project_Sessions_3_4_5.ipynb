{
  "nbformat": 4,
  "nbformat_minor": 0,
  "metadata": {
    "colab": {
      "provenance": [],
      "authorship_tag": "ABX9TyPl9CpoJu/CmOFZtG4/ziLe",
      "include_colab_link": true
    },
    "kernelspec": {
      "name": "python3",
      "display_name": "Python 3"
    },
    "language_info": {
      "name": "python"
    }
  },
  "cells": [
    {
      "cell_type": "markdown",
      "metadata": {
        "id": "view-in-github",
        "colab_type": "text"
      },
      "source": [
        "<a href=\"https://colab.research.google.com/github/tbaeumel/MI_tutorials/blob/main/Project_Sessions_3_4_5.ipynb\" target=\"_parent\"><img src=\"https://colab.research.google.com/assets/colab-badge.svg\" alt=\"Open In Colab\"/></a>"
      ]
    },
    {
      "cell_type": "markdown",
      "source": [
        "### How do LLMs do addition?\n",
        "\n",
        "This is a mini-project to test your new skills in **early decoding**, **probing**, and **causal intervention**.\n",
        "\n",
        "We have the following question: How do LLMs do addition?\n",
        "\n",
        "For instance, *161 + 224 = 385*"
      ],
      "metadata": {
        "id": "BqEIUKE8v8RZ"
      }
    },
    {
      "cell_type": "markdown",
      "source": [
        "## Part 1 - Prediction Accuracy\n",
        "\n",
        "We start by looking at the performance of *meta-llama/Llama-3.2-1B* on addition tasks."
      ],
      "metadata": {
        "id": "cJe8mm05wzaQ"
      }
    },
    {
      "cell_type": "code",
      "execution_count": null,
      "metadata": {
        "id": "TCqk_bPyvoS6"
      },
      "outputs": [],
      "source": [
        "# TODO: Load the model, (manually) evaluate the performance on 5 one-shot addition prompts\n",
        "# ~ 10 lines of code\n",
        "\n",
        "from transformers import AutoTokenizer, AutoModelForCausalLM\n",
        "\n",
        "prompts = [\"122 + 125 = 247; 161 + 224 =\"]\n",
        "\n",
        "model_name = \"meta-llama/Llama-3.2-1B\""
      ]
    },
    {
      "cell_type": "markdown",
      "source": [
        "### Part 2 - Early Decoding\n",
        "\n",
        "Try to answer these questions:\n",
        "1.   From which layer on does Llama predict the\n",
        "correct result?\n",
        "2.   What is the role of Attention and MLP layers?\n",
        "\n",
        "To answer 1) you can use `output_hidden_states=True`, normalize the hidden states with the final layer norm (Use `print(model)` to find about names of layers in *LLama-3.2*), and apply the language modeling head of the model to get logits. Then you simply turn the logit into probabilities.\n",
        "\n",
        "**Difficulty: Easy**, since you can copy heavily from the *Early_Decoding.ipynb* notebook.\n",
        "\n"
      ],
      "metadata": {
        "id": "Z6sTPhjT0V7d"
      }
    },
    {
      "cell_type": "code",
      "source": [],
      "metadata": {
        "id": "x459KnboxrYW"
      },
      "execution_count": null,
      "outputs": []
    }
  ]
}